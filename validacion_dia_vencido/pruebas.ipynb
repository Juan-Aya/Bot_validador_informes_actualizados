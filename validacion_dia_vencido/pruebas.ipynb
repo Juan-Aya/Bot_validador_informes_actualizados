{
 "cells": [
  {
   "cell_type": "code",
   "execution_count": 9,
   "metadata": {},
   "outputs": [
    {
     "name": "stderr",
     "output_type": "stream",
     "text": [
      "C:\\Users\\Juan.Aya\\AppData\\Local\\Temp\\ipykernel_16720\\4129550118.py:16: DeprecationWarning: executable_path has been deprecated, please pass in a Service object\n",
      "  driver = webdriver.Chrome(executable_path=chrome_driver_path, options=chrome_options)\n"
     ]
    },
    {
     "name": "stdout",
     "output_type": "stream",
     "text": [
      "Finalizo\n"
     ]
    }
   ],
   "source": [
    "\n",
    "import time\n",
    "import win32com.client as win32\n",
    "import selenium\n",
    "from selenium import webdriver\n",
    "import os\n",
    "\n",
    "# Ruta al archivo ejecutable del controlador de Chrome WebDriver\n",
    "chrome_driver_path = 'C:\\chromedriver-win64\\chromedriver.exe'  # Cambia esto a la ruta correcta en tu sistema\n",
    "\n",
    "# Opciones para el controlador de Chrome\n",
    "chrome_options = webdriver.ChromeOptions()\n",
    "# Opción para ejecutar en segundo plano sin abrir una ventana de navegador visible\n",
    "# chrome_options.add_argument('--headless')\n",
    "\n",
    "# Crear una instancia del controlador de Chrome\n",
    "driver = webdriver.Chrome(executable_path=chrome_driver_path, options=chrome_options)\n",
    "\n",
    "def getPage(url, driver, time_delay):\n",
    "    driver.get(url)\n",
    "    time.sleep(time_delay)\n",
    "    img_name = f'{url.replace(\"https://\", \"\").replace(\"http://\", \"\").replace(\"/\", \"_\")}.png'\n",
    "    driver.save_screenshot(img_name)\n",
    "    return img_name\n",
    "\n",
    "def sendEmail(email, emailc, asunto, imagenes):\n",
    "    outlook = win32.Dispatch(\"Outlook.Application\")\n",
    "    mail = outlook.CreateItem(0)\n",
    "    \n",
    "    mail.To = email\n",
    "    mail.CC = emailc\n",
    "    mail.Subject = asunto\n",
    "\n",
    "    # Crear una lista para almacenar las imágenes adjuntas\n",
    "    attachments = []\n",
    "\n",
    "    # Recorrer la lista de imágenes y adjuntarlas al correo electrónico\n",
    "    for idx, imagen_path in enumerate(imagenes, start=1):\n",
    "        attachment = mail.Attachments.Add(imagen_path)\n",
    "        attachment.PropertyAccessor.SetProperty(\"http://schemas.microsoft.com/mapi/proptag/0x3712001E\", f\"imagen_id{idx}\")\n",
    "        attachments.append(attachment)\n",
    "\n",
    "    # Crear una cadena de texto con las etiquetas HTML para las imágenes adjuntas\n",
    "    img_tags = \"\"\n",
    "    for idx, attachment in enumerate(attachments, start=1):\n",
    "        img_tags += f'<img src=\"cid:imagen_id{idx}\" alt=\"Imagen {idx}\">\\n'\n",
    "\n",
    "    # Agregar las etiquetas HTML al cuerpo del correo electrónico\n",
    "    mail.HTMLBody = f'''<html>\n",
    "                    <body>\n",
    "                      <p>Buen día,</p>\n",
    "                      <br><br>\n",
    "                      <p>Notifico visual {asunto} Actualizado con corte al día vencido.</p>\n",
    "                      <br><br>\n",
    "                      {img_tags}\n",
    "                      <p>Quedo atento, cualquier inquietud o solicitud.</p>\n",
    "                      <br><br>\n",
    "                    </body>\n",
    "                    </html>'''\n",
    "    try:\n",
    "      mail.send()\n",
    "    except:\n",
    "       pass                  \n",
    "                    \n",
    "# Lista de URLs a capturar\n",
    "urls = ['https://www.decibeles.net/', 'https://www.decibeles.net/chart-colombia', 'https://www.decibeles.net/top100-colombia-hit','https://www.decibeles.net/#las20','https://www.decibeles.net/#artistas_decibeles','https://www.decibeles.net/top100-youtube','https://www.decibeles.net/registro/fans']\n",
    "\n",
    "\n",
    "\n",
    "# Tomar una captura de pantalla de cada URL y guardarla como un archivo PNG\n",
    "imagen_nombres = []\n",
    "for url in urls:\n",
    "    imagen_nombres.append(os.path.abspath(getPage(url, driver, 5)))\n",
    "driver.close()\n",
    "\n",
    "\n",
    "# Enviar un correo electrónico con las capturas de pantalla adjuntas\n",
    "para='ayajuan0@gmail.com'\n",
    "CC='jayapesc@ibero.edu.co'\n",
    "sendEmail(para, CC, \"Asunto del correo electrónico\", imagen_nombres)\n",
    "\n",
    "\n",
    "# Eliminar los archivos PNG después de enviar el correo electrónico (opcional)\n",
    "for imagen_nombre in imagen_nombres:\n",
    "    os.remove(imagen_nombre)\n",
    "print('Finalizo')"
   ]
  }
 ],
 "metadata": {
  "kernelspec": {
   "display_name": "Python 3",
   "language": "python",
   "name": "python3"
  },
  "language_info": {
   "codemirror_mode": {
    "name": "ipython",
    "version": 3
   },
   "file_extension": ".py",
   "mimetype": "text/x-python",
   "name": "python",
   "nbconvert_exporter": "python",
   "pygments_lexer": "ipython3",
   "version": "3.11.3"
  },
  "orig_nbformat": 4
 },
 "nbformat": 4,
 "nbformat_minor": 2
}
